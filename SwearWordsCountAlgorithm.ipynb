{
 "cells": [
  {
   "cell_type": "code",
   "execution_count": 126,
   "metadata": {},
   "outputs": [],
   "source": [
    "import urllib\n",
    "import csv\n",
    "import string\n",
    "import pandas as pd\n",
    "import warnings \n",
    "warnings.filterwarnings('ignore');\n",
    "swear_words =[]\n",
    "data = urllib.request.urlopen(\"https://raw.githubusercontent.com/RobertJGabriel/Google-profanity-words/master/list.txt\")\n",
    "for line in data:\n",
    "    swear_words.append(line.strip())"
   ]
  },
  {
   "cell_type": "code",
   "execution_count": 127,
   "metadata": {},
   "outputs": [],
   "source": [
    "for i in range (len(swear_words)):\n",
    "    swear_words[i] = str(swear_words[i])[2:-1]"
   ]
  },
  {
   "cell_type": "code",
   "execution_count": 128,
   "metadata": {},
   "outputs": [],
   "source": [
    "def get_swear_ratio(s):\n",
    "    count = 0\n",
    "    swear_count = 0\n",
    "    for word in s.split(\" \"):\n",
    "        count = count + 1\n",
    "        if word in swear_words:\n",
    "            swear_count = swear_count + 1\n",
    "    return (swear_count/count)"
   ]
  },
  {
   "cell_type": "code",
   "execution_count": 129,
   "metadata": {},
   "outputs": [],
   "source": [
    "def prepare_swear_words (CSVURL, filename):\n",
    "    train = pd.read_csv(CSVURL, comment='#')\n",
    "    train['Swear_Ratio']=[None] * len(train)\n",
    "    for i in range (len(train)):\n",
    "        train['Swear_Ratio'][i] = get_swear_ratio(train['Comment'][i])\n",
    "    train.to_csv(filename, encoding='utf-8')\n",
    "    return train"
   ]
  },
  {
   "cell_type": "code",
   "execution_count": 130,
   "metadata": {},
   "outputs": [],
   "source": [
    "train = prepare_swear_words('SentimentStemmed.csv', \"SwearSentimentStemmed.csv\")\n",
    "backup = train"
   ]
  },
  {
   "cell_type": "code",
   "execution_count": 136,
   "metadata": {},
   "outputs": [],
   "source": [
    "train = backup\n",
    "train.head()\n",
    "train = train.drop([train.columns[0] , train.columns[1]] ,  axis=1)\n"
   ]
  },
  {
   "cell_type": "code",
   "execution_count": 137,
   "metadata": {},
   "outputs": [
    {
     "data": {
      "text/html": [
       "<div>\n",
       "<style scoped>\n",
       "    .dataframe tbody tr th:only-of-type {\n",
       "        vertical-align: middle;\n",
       "    }\n",
       "\n",
       "    .dataframe tbody tr th {\n",
       "        vertical-align: top;\n",
       "    }\n",
       "\n",
       "    .dataframe thead th {\n",
       "        text-align: right;\n",
       "    }\n",
       "</style>\n",
       "<table border=\"1\" class=\"dataframe\">\n",
       "  <thead>\n",
       "    <tr style=\"text-align: right;\">\n",
       "      <th></th>\n",
       "      <th>Insult</th>\n",
       "      <th>Comment</th>\n",
       "      <th>Sentiment</th>\n",
       "      <th>Swear_Ratio</th>\n",
       "    </tr>\n",
       "  </thead>\n",
       "  <tbody>\n",
       "    <tr>\n",
       "      <th>0</th>\n",
       "      <td>1</td>\n",
       "      <td>you fuck your dad</td>\n",
       "      <td>-0.400000</td>\n",
       "      <td>0.25</td>\n",
       "    </tr>\n",
       "    <tr>\n",
       "      <th>1</th>\n",
       "      <td>0</td>\n",
       "      <td>i realli dont understand your pointxa0 it seem...</td>\n",
       "      <td>0.000000</td>\n",
       "      <td>0</td>\n",
       "    </tr>\n",
       "    <tr>\n",
       "      <th>2</th>\n",
       "      <td>0</td>\n",
       "      <td>axc2xa0major of canadian can and ha been wrong...</td>\n",
       "      <td>0.283333</td>\n",
       "      <td>0</td>\n",
       "    </tr>\n",
       "    <tr>\n",
       "      <th>3</th>\n",
       "      <td>0</td>\n",
       "      <td>listen if you dont wanna get marri to a man or...</td>\n",
       "      <td>0.450000</td>\n",
       "      <td>0</td>\n",
       "    </tr>\n",
       "    <tr>\n",
       "      <th>4</th>\n",
       "      <td>0</td>\n",
       "      <td>cxe1c bu1ea1n xuu1ed1ng u0111u01b0u1eddng biu1...</td>\n",
       "      <td>0.000000</td>\n",
       "      <td>0</td>\n",
       "    </tr>\n",
       "  </tbody>\n",
       "</table>\n",
       "</div>"
      ],
      "text/plain": [
       "   Insult                                            Comment  Sentiment  \\\n",
       "0       1                                  you fuck your dad  -0.400000   \n",
       "1       0  i realli dont understand your pointxa0 it seem...   0.000000   \n",
       "2       0  axc2xa0major of canadian can and ha been wrong...   0.283333   \n",
       "3       0  listen if you dont wanna get marri to a man or...   0.450000   \n",
       "4       0  cxe1c bu1ea1n xuu1ed1ng u0111u01b0u1eddng biu1...   0.000000   \n",
       "\n",
       "  Swear_Ratio  \n",
       "0        0.25  \n",
       "1           0  \n",
       "2           0  \n",
       "3           0  \n",
       "4           0  "
      ]
     },
     "execution_count": 137,
     "metadata": {},
     "output_type": "execute_result"
    }
   ],
   "source": [
    "train.head()"
   ]
  },
  {
   "cell_type": "code",
   "execution_count": 138,
   "metadata": {},
   "outputs": [],
   "source": [
    " train.to_csv(\"SwearSentimentStemmed.csv\", encoding='utf-8')"
   ]
  }
 ],
 "metadata": {
  "kernelspec": {
   "display_name": "Python 3",
   "language": "python",
   "name": "python3"
  },
  "language_info": {
   "codemirror_mode": {
    "name": "ipython",
    "version": 3
   },
   "file_extension": ".py",
   "mimetype": "text/x-python",
   "name": "python",
   "nbconvert_exporter": "python",
   "pygments_lexer": "ipython3",
   "version": "3.6.4"
  }
 },
 "nbformat": 4,
 "nbformat_minor": 2
}
